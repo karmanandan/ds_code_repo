{
 "cells": [
  {
   "cell_type": "code",
   "execution_count": 1,
   "id": "8cab5cd6",
   "metadata": {},
   "outputs": [],
   "source": [
    "import pandas as pd\n",
    "import plotly.express as px\n",
    "\n",
    "# Sample DataFrame\n",
    "data = {\n",
    "    'Category': ['A', 'B', 'C', 'D'],\n",
    "    'Value': [10, 15, 7, 12]\n",
    "}\n",
    "\n",
    "df = pd.DataFrame(data)\n",
    "\n",
    "# Create a Plotly bar chart\n",
    "fig = px.bar(df, x='Category', y='Value', title='Sample Plotly Visualization')\n"
   ]
  },
  {
   "cell_type": "code",
   "execution_count": 3,
   "id": "b1ecd8ce",
   "metadata": {},
   "outputs": [
    {
     "name": "stdout",
     "output_type": "stream",
     "text": [
      "Requirement already satisfied: pdfkit in c:\\users\\e008943\\ds_process\\ds_venv\\lib\\site-packages (1.0.0)\n"
     ]
    }
   ],
   "source": [
    "!pip install pdfkit"
   ]
  },
  {
   "cell_type": "code",
   "execution_count": 4,
   "id": "649edd22",
   "metadata": {},
   "outputs": [
    {
     "ename": "ModuleNotFoundError",
     "evalue": "No module named 'pdfkit'",
     "output_type": "error",
     "traceback": [
      "\u001b[1;31m---------------------------------------------------------------------------\u001b[0m",
      "\u001b[1;31mModuleNotFoundError\u001b[0m                       Traceback (most recent call last)",
      "\u001b[1;32m~\\AppData\\Local\\Temp\\ipykernel_2400\\2349459125.py\u001b[0m in \u001b[0;36m<module>\u001b[1;34m\u001b[0m\n\u001b[1;32m----> 1\u001b[1;33m \u001b[1;32mimport\u001b[0m \u001b[0mpdfkit\u001b[0m\u001b[1;33m\u001b[0m\u001b[1;33m\u001b[0m\u001b[0m\n\u001b[0m\u001b[0;32m      2\u001b[0m \u001b[1;33m\u001b[0m\u001b[0m\n\u001b[0;32m      3\u001b[0m \u001b[1;31m# Define HTML content for the report\u001b[0m\u001b[1;33m\u001b[0m\u001b[1;33m\u001b[0m\u001b[0m\n\u001b[0;32m      4\u001b[0m html_content = f\"\"\"\n\u001b[0;32m      5\u001b[0m \u001b[1;33m<\u001b[0m\u001b[0;31m!\u001b[0m\u001b[0mDOCTYPE\u001b[0m \u001b[0mhtml\u001b[0m\u001b[1;33m>\u001b[0m\u001b[1;33m\u001b[0m\u001b[1;33m\u001b[0m\u001b[0m\n",
      "\u001b[1;31mModuleNotFoundError\u001b[0m: No module named 'pdfkit'"
     ]
    }
   ],
   "source": [
    "import pdfkit\n",
    "\n",
    "# Define HTML content for the report\n",
    "html_content = f\"\"\"\n",
    "<!DOCTYPE html>\n",
    "<html>\n",
    "<head>\n",
    "    <title>PDF Report</title>\n",
    "</head>\n",
    "<body>\n",
    "    <h1>Sample PDF Report</h1>\n",
    "    <div>\n",
    "        {fig.to_html(include_plotlyjs='cdn')}\n",
    "    </div>\n",
    "</body>\n",
    "</html>\n",
    "\"\"\"\n",
    "\n",
    "# Save the HTML content to a file\n",
    "with open('report.html', 'w') as f:\n",
    "    f.write(html_content)\n",
    "\n",
    "# Convert the HTML to a PDF\n",
    "pdfkit.from_file('report.html', 'report.pdf')\n"
   ]
  },
  {
   "cell_type": "code",
   "execution_count": null,
   "id": "521fff86",
   "metadata": {},
   "outputs": [],
   "source": []
  },
  {
   "cell_type": "code",
   "execution_count": null,
   "id": "e19dc8c0",
   "metadata": {},
   "outputs": [],
   "source": []
  },
  {
   "cell_type": "code",
   "execution_count": 2,
   "id": "0ff135af",
   "metadata": {},
   "outputs": [
    {
     "name": "stdout",
     "output_type": "stream",
     "text": [
      "Requirement already satisfied: pandas in c:\\users\\e008943\\ds_process\\ds_venv\\lib\\site-packages (2.0.3)\n",
      "Requirement already satisfied: plotly in c:\\users\\e008943\\ds_process\\ds_venv\\lib\\site-packages (5.17.0)\n",
      "Requirement already satisfied: reportlab in c:\\users\\e008943\\ds_process\\ds_venv\\lib\\site-packages (4.0.5)\n",
      "Requirement already satisfied: python-dateutil>=2.8.2 in c:\\users\\e008943\\ds_process\\ds_venv\\lib\\site-packages (from pandas) (2.8.2)\n",
      "Requirement already satisfied: pytz>=2020.1 in c:\\users\\e008943\\ds_process\\ds_venv\\lib\\site-packages (from pandas) (2023.3.post1)\n",
      "Requirement already satisfied: tzdata>=2022.1 in c:\\users\\e008943\\ds_process\\ds_venv\\lib\\site-packages (from pandas) (2023.3)\n",
      "Requirement already satisfied: numpy>=1.20.3 in c:\\users\\e008943\\ds_process\\ds_venv\\lib\\site-packages (from pandas) (1.26.0)\n",
      "Requirement already satisfied: tenacity>=6.2.0 in c:\\users\\e008943\\ds_process\\ds_venv\\lib\\site-packages (from plotly) (8.2.3)\n",
      "Requirement already satisfied: packaging in c:\\users\\e008943\\ds_process\\ds_venv\\lib\\site-packages (from plotly) (23.1)\n",
      "Requirement already satisfied: pillow>=9.0.0 in c:\\users\\e008943\\ds_process\\ds_venv\\lib\\site-packages (from reportlab) (10.0.1)\n",
      "Requirement already satisfied: six>=1.5 in c:\\users\\e008943\\ds_process\\ds_venv\\lib\\site-packages (from python-dateutil>=2.8.2->pandas) (1.16.0)\n"
     ]
    }
   ],
   "source": [
    "!pip install pandas plotly reportlab"
   ]
  },
  {
   "cell_type": "code",
   "execution_count": 1,
   "id": "cdc24f70",
   "metadata": {},
   "outputs": [
    {
     "ename": "ModuleNotFoundError",
     "evalue": "No module named 'reportlab'",
     "output_type": "error",
     "traceback": [
      "\u001b[1;31m---------------------------------------------------------------------------\u001b[0m",
      "\u001b[1;31mModuleNotFoundError\u001b[0m                       Traceback (most recent call last)",
      "\u001b[1;32m~\\AppData\\Local\\Temp\\ipykernel_6900\\3954011520.py\u001b[0m in \u001b[0;36m<module>\u001b[1;34m\u001b[0m\n\u001b[0;32m      1\u001b[0m \u001b[1;32mimport\u001b[0m \u001b[0mpandas\u001b[0m \u001b[1;32mas\u001b[0m \u001b[0mpd\u001b[0m\u001b[1;33m\u001b[0m\u001b[1;33m\u001b[0m\u001b[0m\n\u001b[0;32m      2\u001b[0m \u001b[1;32mimport\u001b[0m \u001b[0mplotly\u001b[0m\u001b[1;33m.\u001b[0m\u001b[0mexpress\u001b[0m \u001b[1;32mas\u001b[0m \u001b[0mpx\u001b[0m\u001b[1;33m\u001b[0m\u001b[1;33m\u001b[0m\u001b[0m\n\u001b[1;32m----> 3\u001b[1;33m \u001b[1;32mfrom\u001b[0m \u001b[0mreportlab\u001b[0m\u001b[1;33m.\u001b[0m\u001b[0mlib\u001b[0m\u001b[1;33m.\u001b[0m\u001b[0mpagesizes\u001b[0m \u001b[1;32mimport\u001b[0m \u001b[0mletter\u001b[0m\u001b[1;33m\u001b[0m\u001b[1;33m\u001b[0m\u001b[0m\n\u001b[0m\u001b[0;32m      4\u001b[0m \u001b[1;32mfrom\u001b[0m \u001b[0mreportlab\u001b[0m\u001b[1;33m.\u001b[0m\u001b[0mplatypus\u001b[0m \u001b[1;32mimport\u001b[0m \u001b[0mSimpleDocTemplate\u001b[0m\u001b[1;33m,\u001b[0m \u001b[0mParagraph\u001b[0m\u001b[1;33m,\u001b[0m \u001b[0mSpacer\u001b[0m\u001b[1;33m\u001b[0m\u001b[1;33m\u001b[0m\u001b[0m\n\u001b[0;32m      5\u001b[0m \u001b[1;32mfrom\u001b[0m \u001b[0mreportlab\u001b[0m\u001b[1;33m.\u001b[0m\u001b[0mlib\u001b[0m\u001b[1;33m.\u001b[0m\u001b[0mstyles\u001b[0m \u001b[1;32mimport\u001b[0m \u001b[0mgetSampleStyleSheet\u001b[0m\u001b[1;33m\u001b[0m\u001b[1;33m\u001b[0m\u001b[0m\n",
      "\u001b[1;31mModuleNotFoundError\u001b[0m: No module named 'reportlab'"
     ]
    }
   ],
   "source": [
    "import pandas as pd\n",
    "import plotly.express as px\n",
    "from reportlab.lib.pagesizes import letter\n",
    "from reportlab.platypus import SimpleDocTemplate, Paragraph, Spacer\n",
    "from reportlab.lib.styles import getSampleStyleSheet\n",
    "from reportlab.lib import colors\n",
    "from reportlab.platypus import Image\n"
   ]
  },
  {
   "cell_type": "code",
   "execution_count": null,
   "id": "ce90d2e2",
   "metadata": {},
   "outputs": [],
   "source": [
    "# Sample DataFrame creation\n",
    "data = {\n",
    "    'Category': ['A', 'B', 'C', 'D'],\n",
    "    'Values': [10, 25, 15, 30]\n",
    "}\n",
    "\n",
    "df = pd.DataFrame(data)\n"
   ]
  },
  {
   "cell_type": "code",
   "execution_count": null,
   "id": "776a3ea8",
   "metadata": {},
   "outputs": [],
   "source": [
    "fig = px.bar(df, x='Category', y='Values', title='Sample Bar Chart')\n"
   ]
  },
  {
   "cell_type": "code",
   "execution_count": null,
   "id": "6f6f6a2f",
   "metadata": {},
   "outputs": [],
   "source": [
    "# Create a PDF document\n",
    "pdf_filename = \"report.pdf\"\n",
    "doc = SimpleDocTemplate(pdf_filename, pagesize=letter)\n",
    "story = []\n",
    "\n",
    "# Add a title to the report\n",
    "styles = getSampleStyleSheet()\n",
    "title = Paragraph(\"Sample Report\", styles['Title'])\n",
    "story.append(title)\n",
    "story.append(Spacer(1, 12))\n",
    "\n",
    "# Add the Plotly visualization as an image to the report\n",
    "plotly_image = Image(fig.to_image(format=\"png\"), width=400, height=300)\n",
    "story.append(plotly_image)\n",
    "\n",
    "# Save the PDF report\n",
    "doc.build(story)\n"
   ]
  },
  {
   "cell_type": "code",
   "execution_count": null,
   "id": "95a494e8",
   "metadata": {},
   "outputs": [],
   "source": []
  },
  {
   "cell_type": "code",
   "execution_count": null,
   "id": "56ba1e83",
   "metadata": {},
   "outputs": [],
   "source": []
  },
  {
   "cell_type": "code",
   "execution_count": null,
   "id": "e259c22c",
   "metadata": {},
   "outputs": [],
   "source": []
  },
  {
   "cell_type": "code",
   "execution_count": null,
   "id": "9dbefcd7",
   "metadata": {},
   "outputs": [],
   "source": []
  },
  {
   "cell_type": "code",
   "execution_count": 3,
   "id": "3ff45284",
   "metadata": {},
   "outputs": [],
   "source": [
    "import pandas as pd"
   ]
  },
  {
   "cell_type": "code",
   "execution_count": 5,
   "id": "89948652",
   "metadata": {},
   "outputs": [],
   "source": [
    "df = pd.read_csv(r'C:/Users/E008943/Downloads/titanic (1).csv')"
   ]
  },
  {
   "cell_type": "code",
   "execution_count": 6,
   "id": "3a381999",
   "metadata": {},
   "outputs": [
    {
     "data": {
      "text/html": [
       "<div>\n",
       "<style scoped>\n",
       "    .dataframe tbody tr th:only-of-type {\n",
       "        vertical-align: middle;\n",
       "    }\n",
       "\n",
       "    .dataframe tbody tr th {\n",
       "        vertical-align: top;\n",
       "    }\n",
       "\n",
       "    .dataframe thead th {\n",
       "        text-align: right;\n",
       "    }\n",
       "</style>\n",
       "<table border=\"1\" class=\"dataframe\">\n",
       "  <thead>\n",
       "    <tr style=\"text-align: right;\">\n",
       "      <th></th>\n",
       "      <th>PassengerId</th>\n",
       "      <th>Survived</th>\n",
       "      <th>Pclass</th>\n",
       "      <th>Name</th>\n",
       "      <th>Sex</th>\n",
       "      <th>Age</th>\n",
       "      <th>SibSp</th>\n",
       "      <th>Parch</th>\n",
       "      <th>Ticket</th>\n",
       "      <th>Fare</th>\n",
       "      <th>Cabin</th>\n",
       "      <th>Embarked</th>\n",
       "    </tr>\n",
       "  </thead>\n",
       "  <tbody>\n",
       "    <tr>\n",
       "      <th>0</th>\n",
       "      <td>1</td>\n",
       "      <td>0</td>\n",
       "      <td>3</td>\n",
       "      <td>Braund, Mr. Owen Harris</td>\n",
       "      <td>male</td>\n",
       "      <td>22.0</td>\n",
       "      <td>1</td>\n",
       "      <td>0</td>\n",
       "      <td>A/5 21171</td>\n",
       "      <td>7.2500</td>\n",
       "      <td>NaN</td>\n",
       "      <td>S</td>\n",
       "    </tr>\n",
       "    <tr>\n",
       "      <th>1</th>\n",
       "      <td>2</td>\n",
       "      <td>1</td>\n",
       "      <td>1</td>\n",
       "      <td>Cumings, Mrs. John Bradley (Florence Briggs Th...</td>\n",
       "      <td>female</td>\n",
       "      <td>38.0</td>\n",
       "      <td>1</td>\n",
       "      <td>0</td>\n",
       "      <td>PC 17599</td>\n",
       "      <td>71.2833</td>\n",
       "      <td>C85</td>\n",
       "      <td>C</td>\n",
       "    </tr>\n",
       "    <tr>\n",
       "      <th>2</th>\n",
       "      <td>3</td>\n",
       "      <td>1</td>\n",
       "      <td>3</td>\n",
       "      <td>Heikkinen, Miss. Laina</td>\n",
       "      <td>female</td>\n",
       "      <td>26.0</td>\n",
       "      <td>0</td>\n",
       "      <td>0</td>\n",
       "      <td>STON/O2. 3101282</td>\n",
       "      <td>7.9250</td>\n",
       "      <td>NaN</td>\n",
       "      <td>S</td>\n",
       "    </tr>\n",
       "    <tr>\n",
       "      <th>3</th>\n",
       "      <td>4</td>\n",
       "      <td>1</td>\n",
       "      <td>1</td>\n",
       "      <td>Futrelle, Mrs. Jacques Heath (Lily May Peel)</td>\n",
       "      <td>female</td>\n",
       "      <td>35.0</td>\n",
       "      <td>1</td>\n",
       "      <td>0</td>\n",
       "      <td>113803</td>\n",
       "      <td>53.1000</td>\n",
       "      <td>C123</td>\n",
       "      <td>S</td>\n",
       "    </tr>\n",
       "    <tr>\n",
       "      <th>4</th>\n",
       "      <td>5</td>\n",
       "      <td>0</td>\n",
       "      <td>3</td>\n",
       "      <td>Allen, Mr. William Henry</td>\n",
       "      <td>male</td>\n",
       "      <td>35.0</td>\n",
       "      <td>0</td>\n",
       "      <td>0</td>\n",
       "      <td>373450</td>\n",
       "      <td>8.0500</td>\n",
       "      <td>NaN</td>\n",
       "      <td>S</td>\n",
       "    </tr>\n",
       "  </tbody>\n",
       "</table>\n",
       "</div>"
      ],
      "text/plain": [
       "   PassengerId  Survived  Pclass  \\\n",
       "0            1         0       3   \n",
       "1            2         1       1   \n",
       "2            3         1       3   \n",
       "3            4         1       1   \n",
       "4            5         0       3   \n",
       "\n",
       "                                                Name     Sex   Age  SibSp  \\\n",
       "0                            Braund, Mr. Owen Harris    male  22.0      1   \n",
       "1  Cumings, Mrs. John Bradley (Florence Briggs Th...  female  38.0      1   \n",
       "2                             Heikkinen, Miss. Laina  female  26.0      0   \n",
       "3       Futrelle, Mrs. Jacques Heath (Lily May Peel)  female  35.0      1   \n",
       "4                           Allen, Mr. William Henry    male  35.0      0   \n",
       "\n",
       "   Parch            Ticket     Fare Cabin Embarked  \n",
       "0      0         A/5 21171   7.2500   NaN        S  \n",
       "1      0          PC 17599  71.2833   C85        C  \n",
       "2      0  STON/O2. 3101282   7.9250   NaN        S  \n",
       "3      0            113803  53.1000  C123        S  \n",
       "4      0            373450   8.0500   NaN        S  "
      ]
     },
     "execution_count": 6,
     "metadata": {},
     "output_type": "execute_result"
    }
   ],
   "source": [
    "df.head()"
   ]
  },
  {
   "cell_type": "code",
   "execution_count": 7,
   "id": "04532bb4",
   "metadata": {},
   "outputs": [
    {
     "data": {
      "text/plain": [
       "(891, 12)"
      ]
     },
     "execution_count": 7,
     "metadata": {},
     "output_type": "execute_result"
    }
   ],
   "source": [
    "df.shape"
   ]
  },
  {
   "cell_type": "code",
   "execution_count": 8,
   "id": "e271662b",
   "metadata": {},
   "outputs": [
    {
     "data": {
      "text/html": [
       "<div>\n",
       "<style scoped>\n",
       "    .dataframe tbody tr th:only-of-type {\n",
       "        vertical-align: middle;\n",
       "    }\n",
       "\n",
       "    .dataframe tbody tr th {\n",
       "        vertical-align: top;\n",
       "    }\n",
       "\n",
       "    .dataframe thead th {\n",
       "        text-align: right;\n",
       "    }\n",
       "</style>\n",
       "<table border=\"1\" class=\"dataframe\">\n",
       "  <thead>\n",
       "    <tr style=\"text-align: right;\">\n",
       "      <th></th>\n",
       "      <th>PassengerId</th>\n",
       "      <th>Survived</th>\n",
       "      <th>Pclass</th>\n",
       "      <th>Age</th>\n",
       "      <th>SibSp</th>\n",
       "      <th>Parch</th>\n",
       "      <th>Fare</th>\n",
       "    </tr>\n",
       "  </thead>\n",
       "  <tbody>\n",
       "    <tr>\n",
       "      <th>count</th>\n",
       "      <td>891.000000</td>\n",
       "      <td>891.000000</td>\n",
       "      <td>891.000000</td>\n",
       "      <td>714.000000</td>\n",
       "      <td>891.000000</td>\n",
       "      <td>891.000000</td>\n",
       "      <td>891.000000</td>\n",
       "    </tr>\n",
       "    <tr>\n",
       "      <th>mean</th>\n",
       "      <td>446.000000</td>\n",
       "      <td>0.383838</td>\n",
       "      <td>2.308642</td>\n",
       "      <td>29.699118</td>\n",
       "      <td>0.523008</td>\n",
       "      <td>0.381594</td>\n",
       "      <td>32.204208</td>\n",
       "    </tr>\n",
       "    <tr>\n",
       "      <th>std</th>\n",
       "      <td>257.353842</td>\n",
       "      <td>0.486592</td>\n",
       "      <td>0.836071</td>\n",
       "      <td>14.526497</td>\n",
       "      <td>1.102743</td>\n",
       "      <td>0.806057</td>\n",
       "      <td>49.693429</td>\n",
       "    </tr>\n",
       "    <tr>\n",
       "      <th>min</th>\n",
       "      <td>1.000000</td>\n",
       "      <td>0.000000</td>\n",
       "      <td>1.000000</td>\n",
       "      <td>0.420000</td>\n",
       "      <td>0.000000</td>\n",
       "      <td>0.000000</td>\n",
       "      <td>0.000000</td>\n",
       "    </tr>\n",
       "    <tr>\n",
       "      <th>25%</th>\n",
       "      <td>223.500000</td>\n",
       "      <td>0.000000</td>\n",
       "      <td>2.000000</td>\n",
       "      <td>20.125000</td>\n",
       "      <td>0.000000</td>\n",
       "      <td>0.000000</td>\n",
       "      <td>7.910400</td>\n",
       "    </tr>\n",
       "    <tr>\n",
       "      <th>50%</th>\n",
       "      <td>446.000000</td>\n",
       "      <td>0.000000</td>\n",
       "      <td>3.000000</td>\n",
       "      <td>28.000000</td>\n",
       "      <td>0.000000</td>\n",
       "      <td>0.000000</td>\n",
       "      <td>14.454200</td>\n",
       "    </tr>\n",
       "    <tr>\n",
       "      <th>75%</th>\n",
       "      <td>668.500000</td>\n",
       "      <td>1.000000</td>\n",
       "      <td>3.000000</td>\n",
       "      <td>38.000000</td>\n",
       "      <td>1.000000</td>\n",
       "      <td>0.000000</td>\n",
       "      <td>31.000000</td>\n",
       "    </tr>\n",
       "    <tr>\n",
       "      <th>max</th>\n",
       "      <td>891.000000</td>\n",
       "      <td>1.000000</td>\n",
       "      <td>3.000000</td>\n",
       "      <td>80.000000</td>\n",
       "      <td>8.000000</td>\n",
       "      <td>6.000000</td>\n",
       "      <td>512.329200</td>\n",
       "    </tr>\n",
       "  </tbody>\n",
       "</table>\n",
       "</div>"
      ],
      "text/plain": [
       "       PassengerId    Survived      Pclass         Age       SibSp  \\\n",
       "count   891.000000  891.000000  891.000000  714.000000  891.000000   \n",
       "mean    446.000000    0.383838    2.308642   29.699118    0.523008   \n",
       "std     257.353842    0.486592    0.836071   14.526497    1.102743   \n",
       "min       1.000000    0.000000    1.000000    0.420000    0.000000   \n",
       "25%     223.500000    0.000000    2.000000   20.125000    0.000000   \n",
       "50%     446.000000    0.000000    3.000000   28.000000    0.000000   \n",
       "75%     668.500000    1.000000    3.000000   38.000000    1.000000   \n",
       "max     891.000000    1.000000    3.000000   80.000000    8.000000   \n",
       "\n",
       "            Parch        Fare  \n",
       "count  891.000000  891.000000  \n",
       "mean     0.381594   32.204208  \n",
       "std      0.806057   49.693429  \n",
       "min      0.000000    0.000000  \n",
       "25%      0.000000    7.910400  \n",
       "50%      0.000000   14.454200  \n",
       "75%      0.000000   31.000000  \n",
       "max      6.000000  512.329200  "
      ]
     },
     "execution_count": 8,
     "metadata": {},
     "output_type": "execute_result"
    }
   ],
   "source": [
    "df.describe()"
   ]
  },
  {
   "cell_type": "code",
   "execution_count": 9,
   "id": "584e3972",
   "metadata": {},
   "outputs": [
    {
     "name": "stdout",
     "output_type": "stream",
     "text": [
      "<class 'pandas.core.frame.DataFrame'>\n",
      "RangeIndex: 891 entries, 0 to 890\n",
      "Data columns (total 12 columns):\n",
      " #   Column       Non-Null Count  Dtype  \n",
      "---  ------       --------------  -----  \n",
      " 0   PassengerId  891 non-null    int64  \n",
      " 1   Survived     891 non-null    int64  \n",
      " 2   Pclass       891 non-null    int64  \n",
      " 3   Name         891 non-null    object \n",
      " 4   Sex          891 non-null    object \n",
      " 5   Age          714 non-null    float64\n",
      " 6   SibSp        891 non-null    int64  \n",
      " 7   Parch        891 non-null    int64  \n",
      " 8   Ticket       891 non-null    object \n",
      " 9   Fare         891 non-null    float64\n",
      " 10  Cabin        204 non-null    object \n",
      " 11  Embarked     889 non-null    object \n",
      "dtypes: float64(2), int64(5), object(5)\n",
      "memory usage: 83.7+ KB\n"
     ]
    }
   ],
   "source": [
    "df.info()"
   ]
  },
  {
   "cell_type": "code",
   "execution_count": 10,
   "id": "be485f9f",
   "metadata": {},
   "outputs": [],
   "source": [
    "numerical_cols = df.select_dtypes(include=['number','int64','float64']).columns\n",
    "categorical_cols = df.select_dtypes(include=['object', 'category']).columns"
   ]
  },
  {
   "cell_type": "code",
   "execution_count": 30,
   "id": "dd550b78",
   "metadata": {},
   "outputs": [],
   "source": [
    "num_res = dict(df[numerical_cols].describe())\n",
    "cat_res = dict(df[categorical_cols].describe(include=['O']))"
   ]
  },
  {
   "cell_type": "code",
   "execution_count": null,
   "id": "06cf4f13",
   "metadata": {},
   "outputs": [],
   "source": []
  },
  {
   "cell_type": "code",
   "execution_count": 41,
   "id": "6a4d7480",
   "metadata": {},
   "outputs": [],
   "source": [
    "# df2 = pd.read_csv(r'C:/Users/E008943/ds_process/test_data/weather_2016_2020_daily.csv')\n",
    "# df2.describe(include='all')"
   ]
  },
  {
   "cell_type": "code",
   "execution_count": 31,
   "id": "0a525cf6",
   "metadata": {},
   "outputs": [
    {
     "data": {
      "text/plain": [
       "PassengerId      0\n",
       "Survived         0\n",
       "Pclass           0\n",
       "Name             0\n",
       "Sex              0\n",
       "Age            177\n",
       "SibSp            0\n",
       "Parch            0\n",
       "Ticket           0\n",
       "Fare             0\n",
       "Cabin          687\n",
       "Embarked         2\n",
       "dtype: int64"
      ]
     },
     "execution_count": 31,
     "metadata": {},
     "output_type": "execute_result"
    }
   ],
   "source": [
    "df.isnull().sum()"
   ]
  },
  {
   "cell_type": "code",
   "execution_count": null,
   "id": "87691619",
   "metadata": {},
   "outputs": [],
   "source": []
  },
  {
   "cell_type": "code",
   "execution_count": 36,
   "id": "de0f5806",
   "metadata": {},
   "outputs": [
    {
     "data": {
      "text/plain": [
       "{'column_name': 'Age',\n",
       " 'Distinct': 88,\n",
       " 'nan values count': 177,\n",
       " 'Distinct Percentage': 9.88,\n",
       " 'Missing': 177,\n",
       " 'Missing Percentage': 19.87,\n",
       " 'Mean': 29.69911764705882,\n",
       " 'Median': 28.0,\n",
       " 'Mode': 24.0,\n",
       " 'Minimum': 0.42,\n",
       " 'Maximum': 80.0,\n",
       " 'Zeros': 0,\n",
       " 'Zeros Percentage': 0.0,\n",
       " 'Memory Usage(MB)': 0.01,\n",
       " '25th Percentile': 20.125,\n",
       " '50th Percentile': 28.0,\n",
       " '75th Percentile': 38.0,\n",
       " 'IQR': 17.875,\n",
       " 'Range': 79.58,\n",
       " 'Kurtosis': 0.17827415364210353,\n",
       " 'Skewness': 0.38910778230082704,\n",
       " 'Variance': 211.0191247463081,\n",
       " 'Standard Deviation': 14.526497332334044}"
      ]
     },
     "execution_count": 36,
     "metadata": {},
     "output_type": "execute_result"
    }
   ],
   "source": [
    "import numpy as np\n",
    "def calculate_numeric_column_attributes(dataframe, column_name):\n",
    "    # Select the specified column\n",
    "    column = dataframe[column_name]\n",
    "    \n",
    "     # Calculate NaN values count\n",
    "    nan_count = column.isna().sum()\n",
    "    \n",
    "    # Calculate distinct values and distinct percentage\n",
    "    distinct_count = column.nunique()\n",
    "    distinct_percentage = (distinct_count / len(column)) * 100\n",
    "    \n",
    "    # Calculate missing values and missing percentage\n",
    "    missing_count = column.isnull().sum()\n",
    "    missing_percentage = (missing_count / len(column)) * 100\n",
    "    \n",
    "    # Calculate infinite values and infinite percentage\n",
    "    infinite_count = np.isinf(column).sum()\n",
    "    infinite_percentage = (infinite_count / len(column)) * 100\n",
    "    \n",
    "    # Calculate mean, median, mode, min, and max\n",
    "    mean = column.mean()\n",
    "    median = column.median()\n",
    "    try:\n",
    "        mode = column.mode().iloc[0]\n",
    "    except IndexError:\n",
    "        mode = 'ERROR'\n",
    "#         print('Specified column index out of bounds')\n",
    "    minimum = column.min()\n",
    "    maximum = column.max()\n",
    "    \n",
    "    # Calculate zeros and zeros percentage\n",
    "    zero_count = (column == 0).sum()\n",
    "    zero_percentage = (zero_count / len(column)) * 100\n",
    "    \n",
    "    # Calculate memory usage\n",
    "    memory_usage = column.memory_usage(deep=True)/(1024 * 1024)\n",
    "    \n",
    "    # Calculate quantile values (25th, 50th, and 75th percentiles)\n",
    "    quantiles = column.quantile([0.25, 0.5, 0.75])\n",
    "    q_25 = quantiles[0.25]\n",
    "    q_50 = quantiles[0.5]\n",
    "    q_75 = quantiles[0.75]\n",
    "    # IQR\n",
    "    iqr = q_75 - q_25\n",
    "    # Calculate range\n",
    "    column_range = maximum - minimum\n",
    "    \n",
    "    # Calculate kurtosis and skewness\n",
    "    kurtosis = column.kurtosis()\n",
    "    skewness = column.skew()\n",
    "    \n",
    "    # Calculate variance and standard deviation\n",
    "    variance = column.var()\n",
    "    std_deviation = column.std()\n",
    "    \n",
    "    # Create a dictionary to store the results\n",
    "    attributes = {\n",
    "        \"column_name\":column_name,\n",
    "        \"Distinct\": distinct_count,\n",
    "        \"nan values count\":nan_count,\n",
    "        \"Distinct Percentage\": round(distinct_percentage,2),\n",
    "        \"Missing\": missing_count,\n",
    "        \"Missing Percentage\": round(missing_percentage,2),\n",
    "#         \"Infinite\": infinite_count,\n",
    "#         \"Infinite Percentage\": round(infinite_percentage,2),\n",
    "        \"Mean\": mean,\n",
    "        \"Median\": median,\n",
    "        \"Mode\": mode,\n",
    "        \"Minimum\": minimum,\n",
    "        \"Maximum\": maximum,\n",
    "        \"Zeros\": zero_count,\n",
    "        \"Zeros Percentage\": zero_percentage,\n",
    "        \"Memory Usage(MB)\": round(memory_usage,2),\n",
    "        \"25th Percentile\": q_25,\n",
    "        \"50th Percentile\": q_50,\n",
    "        \"75th Percentile\": q_75,\n",
    "        \"IQR\":iqr,\n",
    "        \"Range\": column_range,\n",
    "        \"Kurtosis\": kurtosis,\n",
    "        \"Skewness\": skewness,\n",
    "        \"Variance\": variance,\n",
    "        \"Standard Deviation\": std_deviation,\n",
    "    }\n",
    "    \n",
    "    return attributes\n",
    "\n",
    "calculate_numeric_column_attributes(df, 'Age')"
   ]
  },
  {
   "cell_type": "code",
   "execution_count": null,
   "id": "bca9d797",
   "metadata": {},
   "outputs": [],
   "source": [
    "# nan count, %\n",
    "# dist, %\n",
    "# zero count\n",
    "# memory usuage\n",
    "# IQR\n",
    "# Kurtosis\n",
    "# Skewness\n",
    "# variance\n",
    "# standard deviation"
   ]
  },
  {
   "cell_type": "code",
   "execution_count": 105,
   "id": "d7f28b29",
   "metadata": {},
   "outputs": [],
   "source": [
    "def data_description(df):\n",
    "    var_results = {}\n",
    "    return df.describe(include='all')\n",
    "    \n",
    "#     numerical_cols = df.select_dtypes(include=['number','int64','float64']).columns\n",
    "#     categorical_cols = df.select_dtypes(include=['object', 'category']).columns\n",
    "#     print(\"numerical_cols\",numerical_cols)\n",
    "#     print(\"categorical_cols\",categorical_cols)\n",
    "#     if len(numerical_cols) !=0:\n",
    "#         num_res = dict(df[numerical_cols].describe())\n",
    "#     elif len(categorical_cols) !=0:\n",
    "#         cat_res = dict(df[categorical_cols].describe(include=['O']))\n",
    "    \n",
    "# #     var_results['numerical_results'] = {key:dict(value) for key, value in num_res.items()}\n",
    "# #     var_results['categorical_results'] = {key:dict(value) for key, value in cat_res.items()}\n",
    "    \n",
    "    \n",
    "# #     return var_results\n",
    "\n",
    "#     return {key:dict(value) for key, value in num_res.items()}, {key:dict(value) for key, value in cat_res.items()}"
   ]
  },
  {
   "cell_type": "code",
   "execution_count": 101,
   "id": "e6a541af",
   "metadata": {},
   "outputs": [],
   "source": [
    "# pd.DataFrame(data_description(df)[0]).T"
   ]
  },
  {
   "cell_type": "code",
   "execution_count": 102,
   "id": "64ba8934",
   "metadata": {},
   "outputs": [],
   "source": [
    "# pd.DataFrame(data_description(df)[1]).T"
   ]
  },
  {
   "cell_type": "code",
   "execution_count": null,
   "id": "90646945",
   "metadata": {},
   "outputs": [],
   "source": []
  },
  {
   "cell_type": "code",
   "execution_count": null,
   "id": "09087240",
   "metadata": {},
   "outputs": [],
   "source": []
  },
  {
   "cell_type": "code",
   "execution_count": 103,
   "id": "e8a039a5",
   "metadata": {},
   "outputs": [],
   "source": [
    "def dup_data_description(df,table_name):\n",
    "    \n",
    "    desc_results = {}\n",
    "    var_results = {}\n",
    "    \n",
    "    df_shape = df.shape\n",
    "    desc_results['no_of_observations'] = df_shape[0]\n",
    "    desc_results['no_of_variables'] = df_shape[1]\n",
    "\n",
    "    # Get the data types of columns\n",
    "    column_data_types = df.dtypes\n",
    "\n",
    "    # Find unique data types\n",
    "    unique_data_types = column_data_types.unique()\n",
    "\n",
    "    # Create a dictionary to store column names by data type\n",
    "    column_names_by_dtype = {dtype: [] for dtype in unique_data_types}\n",
    "\n",
    "    # Iterate through columns and categorize them by data type\n",
    "    for column_name, dtype in column_data_types.iteritems():\n",
    "        column_names_by_dtype[dtype].append(column_name)\n",
    "    \n",
    "    missing_values_count = df.isnull().sum()\n",
    "\n",
    "    # Calculate missing values percentage per column\n",
    "    total_values = df.shape[0]\n",
    "    missing_values_percentage = (missing_values_count / total_values) * 100\n",
    "    \n",
    "    # Calculate the number of duplicate rows\n",
    "    duplicate_rows = df.duplicated(keep='first')  # Keep the first occurrence as not duplicate\n",
    "    num_duplicates = duplicate_rows.sum()\n",
    "    \n",
    "    desc_results['duplicate_rows'] = num_duplicates\n",
    "    \n",
    "    # Calculate the number of duplicate rows\n",
    "    num_duplicate_rows = df.duplicated().sum()\n",
    "\n",
    "    # Calculate the total number of rows\n",
    "    total_rows = len(df)\n",
    "\n",
    "    # Calculate the percentage of duplicate rows\n",
    "    duplicate_percentage = (num_duplicate_rows / total_rows) * 100\n",
    "    \n",
    "    desc_results['duplicate_percentage'] = duplicate_percentage\n",
    "    \n",
    "    # Calculate memory usage for each column\n",
    "    memory_usage_per_column = df.memory_usage(deep=True)\n",
    "\n",
    "    # Calculate the total memory usage for the entire DataFrame in bytes\n",
    "    total_memory_usage = memory_usage_per_column.sum()\n",
    "\n",
    "    # Convert the total memory usage to a more human-readable format (e.g., megabytes)\n",
    "    total_memory_usage_MB = round(total_memory_usage / (1024 * 1024),2)  # Convert bytes\n",
    "    \n",
    "    desc_results['memory_usuage(MB)'] = total_memory_usage_MB\n",
    "    \n",
    "    return desc_results"
   ]
  },
  {
   "cell_type": "code",
   "execution_count": 127,
   "id": "5aa13b8f",
   "metadata": {},
   "outputs": [],
   "source": [
    "import os\n",
    "root_dir = r'C:\\Users\\E008943\\ds_process\\test_data'\n",
    "li_files = os.listdir(root_dir)\n",
    "\n",
    "filename = \"checking_data\"#,root_dir.split('\\\\')[-1]\n",
    "\n",
    "with pd.ExcelWriter(f\"{filename}.xlsx\") as writer:\n",
    "    tab_names = []\n",
    "    tab_obs = []\n",
    "    for table_name in li_files:\n",
    "        path_ = os.path.join(root_dir, table_name)\n",
    "        df = pd.read_csv(path_)\n",
    "        tab_names.append(table_name)\n",
    "        tab_obs.append(dup_data_description(df, table_name))\n",
    "        res_df = pd.DataFrame(data_description(df)).T\n",
    "        res_df['Columns'] = data_description(df).columns\n",
    "        if not (res_df.empty):\n",
    "                res_df.to_excel(writer, sheet_name=(os.path.splitext(table_name)[0]+'_'+k)[:30], index=False)\n",
    "\n",
    "    desc_df = pd.DataFrame(dict(zip(tab_names,tab_obs))).T\n",
    "    desc_df.to_excel(writer, sheet_name='Table desc')"
   ]
  },
  {
   "cell_type": "code",
   "execution_count": null,
   "id": "01cb205e",
   "metadata": {},
   "outputs": [],
   "source": []
  }
 ],
 "metadata": {
  "kernelspec": {
   "display_name": "Python 3 (ipykernel)",
   "language": "python",
   "name": "python3"
  },
  "language_info": {
   "codemirror_mode": {
    "name": "ipython",
    "version": 3
   },
   "file_extension": ".py",
   "mimetype": "text/x-python",
   "name": "python",
   "nbconvert_exporter": "python",
   "pygments_lexer": "ipython3",
   "version": "3.9.13"
  }
 },
 "nbformat": 4,
 "nbformat_minor": 5
}
